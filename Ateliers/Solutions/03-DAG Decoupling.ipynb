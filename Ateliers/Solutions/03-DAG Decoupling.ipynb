{
  "nbformat": 4,
  "nbformat_minor": 0,
  "metadata": {
    "colab": {
      "provenance": []
    },
    "kernelspec": {
      "name": "python3",
      "display_name": "Python 3"
    },
    "language_info": {
      "name": "python"
    }
  },
  "cells": [
    {
      "cell_type": "markdown",
      "source": [
        "# Dags Decoupling: Création de Dags simple combine en un seul Dag "
      ],
      "metadata": {
        "id": "VWIYJVxoJoR6"
      }
    },
    {
      "cell_type": "markdown",
      "source": [
        "![atelier3](https://user-images.githubusercontent.com/123757632/231910388-d2d83283-8a29-454c-9b3e-223787b8477b.png)"
      ],
      "metadata": {
        "id": "yPS4zARMJp1E"
      }
    },
    {
      "cell_type": "markdown",
      "source": [
        "# Création Dags et définition des dépendances entre les DAG dans Airflow"
      ],
      "metadata": {
        "id": "SD_xochbJxGd"
      }
    },
    {
      "cell_type": "markdown",
      "source": [
        "Lorsque deux DAG ont des relations de dépendance, il convient d'envisager de les combiner en un seul DAG, qui est généralement plus simple à comprendre. Airflow offre également une meilleure représentation visuelle de dépendances pour les tâches sur le même DAG. Cependant, il n'est parfois pas pratique de mettre tous les éléments connexes tâches sur le même DAG."
      ],
      "metadata": {
        "id": "xSNY9Z5-JyqR"
      }
    },
    {
      "cell_type": "markdown",
      "source": [
        "## 1. Création des deux dags Parents 'dag en amont'"
      ],
      "metadata": {
        "id": "To8jSxlpJ3Kl"
      }
    },
    {
      "cell_type": "markdown",
      "source": [
        "Pour la création des deux dags parents , il faut commencer par la création des deux fichirs 'parent_dag_1.py' et 'parent_dag_2.py' dans le dossier 'dags' ."
      ],
      "metadata": {
        "id": "sn4_1PDuJ5eH"
      }
    },
    {
      "cell_type": "code",
      "source": [
        "└───dags|── parent_dag_1.py                  \n",
        "        └── parent_dag_2.py"
      ],
      "metadata": {
        "id": "v38NX1BAJ3rI"
      },
      "execution_count": null,
      "outputs": []
    },
    {
      "cell_type": "markdown",
      "source": [
        "### 1 - parent_dag_1.py"
      ],
      "metadata": {
        "id": "wljIqjBHJ74f"
      }
    },
    {
      "cell_type": "code",
      "execution_count": null,
      "metadata": {
        "id": "Ami_Nw90Jj6s"
      },
      "outputs": [],
      "source": [
        "from airflow import models\n",
        "from airflow.operators.dummy_operator import DummyOperator\n",
        "from airflow.operators import python_operator\n",
        "from airflow.utils.dates import days_ago\n",
        "\n",
        "\n",
        "with models.DAG(\n",
        "    'dag_1',\n",
        "    schedule_interval='*/1 * * * *', # Chaque minute\n",
        "    start_date=days_ago(0),\n",
        "    catchup=False) as dag:\n",
        "  def greeting():\n",
        "    \"\"\"Just check that the DAG is started in the log.\"\"\"\n",
        "    import logging\n",
        "    logging.info('Bonjour le monde depuis le DAG 1')\n",
        "\n",
        "  hello_python = python_operator.PythonOperator(\n",
        "    task_id='bonjour',\n",
        "    python_callable=greeting)\n",
        "\n",
        "  goodbye_dummy = DummyOperator(task_id='au_revoir')\n",
        "\n",
        "  hello_python >> goodbye_dummy"
      ]
    },
    {
      "cell_type": "markdown",
      "source": [
        "Ce code crée un DAG simple dans Airflow appelé \"dag_1\", qui contient deux tâches :\n",
        "\n",
        "* La première tâche s'appelle \"hello_python\" et utilise l'opérateur Python pour exécuter la fonction \"greeting()\". Cette fonction écrit simplement \"Bonjour le monde depuis le DAG 1\" dans les logs.\n",
        "* La deuxième tâche s'appelle \"goodbye_dummy\" et utilise l'opérateur DummyOperator pour simuler une tâche de fin. La flèche \">>\" entre ces deux tâches définit une dépendance, de sorte que \"goodbye_dummy\" ne peut être exécuté que lorsque \"hello_python\" est terminé avec succès.\n",
        "La ligne \"with models.DAG(...)\" crée un objet DAG avec les paramètres suivants :\n",
        "\n",
        "* \"dag_id\": le nom du DAG (dans ce cas \"dag_1\").\n",
        "* \"schedule_interval\": la fréquence à laquelle le DAG sera exécuté (dans ce cas toutes les minutes).\n",
        "* \"start_date\": la date de début du DAG (dans ce cas, il commence immédiatement).\n",
        "* \"catchup\": un booléen qui indique si Airflow doit rattraper les exécutions manquées depuis la date de début (dans ce cas, c'est désactivé).\n",
        "\n",
        "En résumé, ce DAG exécutera la fonction \"greeting()\" toutes les minutes, écrira un message de log et terminera la tâche avec un opérateur \"Dummy\"."
      ],
      "metadata": {
        "id": "NgzGKEJpKCHD"
      }
    },
    {
      "cell_type": "markdown",
      "source": [
        "![image](https://user-images.githubusercontent.com/123757632/227970640-39e0893d-6b28-4aa8-ad65-9f09ef4f31f7.png)\n"
      ],
      "metadata": {
        "id": "lWUSrn3HKF-D"
      }
    },
    {
      "cell_type": "markdown",
      "source": [
        "Dans L'interface Utilisateur, Plus Précisément Dans L'interface Graphique Du Dag Nommé Dag_1, Toutes Les Tâches Peuvent Être Repérées."
      ],
      "metadata": {
        "id": "A3YRz0xjKJlX"
      }
    },
    {
      "cell_type": "markdown",
      "source": [
        "\n",
        "![image](https://user-images.githubusercontent.com/123757632/227970692-7099a4d3-7d48-49a9-936e-cb9fe455e288.png)\n"
      ],
      "metadata": {
        "id": "Jea9WeJOKM01"
      }
    },
    {
      "cell_type": "markdown",
      "source": [
        "### 2 - parent_dag_2.py"
      ],
      "metadata": {
        "id": "Kl-usd98KQIu"
      }
    },
    {
      "cell_type": "code",
      "source": [
        "from airflow import models\n",
        "from airflow.operators.dummy_operator import DummyOperator\n",
        "from airflow.operators import python_operator\n",
        "from airflow.utils.dates import days_ago\n",
        "\n",
        "\n",
        "with models.DAG(\n",
        "    'dag_2',\n",
        "    schedule_interval='*/1 * * * *', # Chaque minute\n",
        "    start_date=days_ago(0),\n",
        "    catchup=False) as dag:\n",
        "  def greeting():\n",
        "    \"\"\"Just check that the DAG is started in the log.\"\"\"\n",
        "    import logging\n",
        "    logging.info('Bonjour le monde depuis le DAG 2')\n",
        "\n",
        "  hello_python = python_operator.PythonOperator(\n",
        "    task_id='bonjour',\n",
        "    python_callable=greeting)\n",
        "\n",
        "  goodbye_dummy = DummyOperator(task_id='au_revoir')\n",
        "\n",
        "  hello_python >> goodbye_dummy"
      ],
      "metadata": {
        "id": "j9z1v3B8KRMc"
      },
      "execution_count": null,
      "outputs": []
    },
    {
      "cell_type": "markdown",
      "source": [
        "Ce code crée un DAG nommé \"dag_2\" dans Airflow qui est identique au DAG précédent (\"dag_1\") que nous avons vu. Il contient deux tâches :\n",
        "\n",
        "* La première tâche s'appelle \"hello_python\" et utilise l'opérateur Python pour exécuter la fonction \"greeting()\". Cette fonction écrit simplement \"Bonjour le monde depuis le DAG 2\" dans les logs.\n",
        "* La deuxième tâche s'appelle \"goodbye_dummy\" et utilise l'opérateur DummyOperator pour simuler une tâche de fin. La flèche \">>\" entre ces deux tâches définit une dépendance, de sorte que \"goodbye_dummy\" ne peut être exécuté que lorsque \"hello_python\" est terminé avec succès.\n",
        "\n",
        "La ligne \"with models.DAG(...)\" crée un objet DAG avec les paramètres suivants :\n",
        "\n",
        "* \"dag_id\": le nom du DAG (dans ce cas \"dag_2\").\n",
        "* \"schedule_interval\": la fréquence à laquelle le DAG sera exécuté (dans ce cas toutes les minutes).\n",
        "* \"start_date\": la date de début du DAG (dans ce cas, il commence immédiatement).\n",
        "* \"catchup\": un booléen qui indique si Airflow doit rattraper les exécutions manquées depuis la date de début (dans ce cas, c'est désactivé).\n",
        "\n",
        "En résumé, ce DAG exécutera la fonction \"greeting()\" toutes les minutes, écrira un message de log et terminera la tâche avec un opérateur \"Dummy\". La seule différence entre ce DAG et le précédent est le nom.\n",
        "\n"
      ],
      "metadata": {
        "id": "RsCLkXJdKU7D"
      }
    },
    {
      "cell_type": "markdown",
      "source": [
        "\n",
        "![image](https://user-images.githubusercontent.com/123757632/227970722-d5a85af4-25eb-42e7-8526-e046587ee17b.png)\n",
        "\n",
        "\n",
        "\n",
        "![image](https://user-images.githubusercontent.com/123757632/227970795-4eafaabe-c71b-4c1a-825a-c2e5be5201ab.png)\n"
      ],
      "metadata": {
        "id": "Y5fY3VPxKV6c"
      }
    },
    {
      "cell_type": "markdown",
      "source": [
        "## 2 . Création du dag enfant 'dag en aval'"
      ],
      "metadata": {
        "id": "1m-stt2_Ka1A"
      }
    },
    {
      "cell_type": "markdown",
      "source": [
        "### child_master_dag.py"
      ],
      "metadata": {
        "id": "VPcgsQcbKfO9"
      }
    },
    {
      "cell_type": "code",
      "source": [
        "\"\"\"Déclenchez les DAGs #1 et #2 et faites quelque chose s'ils réussissent.\"\"\"\n",
        "\n",
        "from airflow import DAG\n",
        "from airflow.sensors.external_task import ExternalTaskSensor\n",
        "from airflow.operators.dummy_operator import DummyOperator\n",
        "from airflow.utils.dates import days_ago\n",
        "\n",
        "\n",
        "with DAG(\n",
        "    'Dag_master',\n",
        "    schedule_interval='*/1 * * * *', # Chaque minute\n",
        "    start_date=days_ago(0),\n",
        "    catchup=False) as dag:\n",
        "  def greeting():\n",
        "    \"\"\"Vérifiez simplement que le DAG a démarré dans le journal.\"\"\"\n",
        "    import logging\n",
        "    logging.info('Hello World from DAG MASTER')\n",
        "\n",
        "  externalsensor1 = ExternalTaskSensor(\n",
        "    task_id='dag_1_completed_status',\n",
        "    external_dag_id='dag_1',\n",
        "    external_task_id=None, #Attendez que tout le DAG soit terminé\n",
        "    check_existence=True,\n",
        "    timeout=120)\n",
        "\n",
        "  externalsensor2 = ExternalTaskSensor(\n",
        "    task_id='dag_2_completed_status',\n",
        "    external_dag_id='dag_2',\n",
        "    external_task_id=None, # Attendez que tout le DAG soit terminé\n",
        "    check_existence=True,\n",
        "    timeout=120)\n",
        "\n",
        "  goodbye_dummy = DummyOperator(task_id='goodbye_master')\n",
        "\n",
        "  [externalsensor1, externalsensor2] >> goodbye_dummy"
      ],
      "metadata": {
        "id": "Ubt6_TAKKi3B"
      },
      "execution_count": null,
      "outputs": []
    },
    {
      "cell_type": "markdown",
      "source": [
        "Le DAG principal est créé en utilisant la méthode DAG() de la bibliothèque Airflow. Le DAG est nommé \"Dag_master\" et est configuré pour s'exécuter toutes les minutes en utilisant le paramètre schedule_interval.\n",
        "\n",
        "La date de début est définie comme étant la date d'aujourd'hui en utilisant la fonction days_ago(). Une fonction appelée greeting() est définie pour vérifier que le DAG a démarré en écrivant un message de journalisation (\"Hello World from DAG MASTER\").\n",
        "\n",
        "Deux capteurs de tâches externes sont créés pour surveiller les deux DAGs #1 et #2 en attente de leur achèvement. \n",
        "\n",
        "Les capteurs sont configurés avec les paramètres suivants :\n",
        "\n",
        "* task_id: l'identifiant de la tâche\n",
        "* external_dag_id: l'identifiant du DAG externe à surveiller\n",
        "* external_task_id: l'identifiant de la tâche externe à surveiller. Dans ce cas, nous ne surveillons pas une tâche spécifique, mais tout le DAG. Par conséquent, nous avons défini cette valeur sur None.\n",
        "* check_existence: une valeur booléenne pour indiquer si le capteur doit vérifier l'existence de la tâche ou attendre qu'elle soit terminée.\n",
        "* timeout: le temps maximum en secondes pendant lequel le capteur doit attendre avant de déclencher une exception.\n",
        "* Finalement, une tâche \"goodbye_master\" est créée en utilisant l'opérateur fictif DummyOperator. Cette tâche sera exécutée si les deux capteurs de tâches externes réussissent. \n",
        "* Les deux capteurs sont connectés à la tâche \"goodbye_master\" en utilisant l'opérateur de décalage de bits (>>) pour indiquer que la tâche \"goodbye_master\" ne doit pas être exécutée tant que les deux capteurs ne se sont pas déclenchés.\n",
        "\n",
        "En résumé, ce DAG crée deux capteurs de tâches externes pour surveiller deux autres DAGs et attend leur achèvement avant d'exécuter une tâche fictive. Ce code peut être modifié pour effectuer une tâche réelle une fois que les deux DAGs sont terminés avec succès."
      ],
      "metadata": {
        "id": "Fkd6R3QIKk-_"
      }
    },
    {
      "cell_type": "markdown",
      "source": [
        "\n",
        "![image](https://user-images.githubusercontent.com/123757632/227970827-38425e7e-132b-4219-acdd-9ab90f8967a5.png)\n",
        "\n",
        "\n",
        "![image](https://user-images.githubusercontent.com/123757632/227970858-cb27f9ba-0f12-47c0-8cf6-a199da0f37ba.png)\n"
      ],
      "metadata": {
        "id": "4wZB3jZUKnjt"
      }
    },
    {
      "cell_type": "markdown",
      "source": [
        "## ACTIVATION DES DAGS\n",
        "\n",
        "![image](https://user-images.githubusercontent.com/123757632/227970898-5c7dab64-9825-4f95-ab97-ea1f3d1ed219.png)\n",
        "\n",
        "\n",
        "### ACTIVATION DES DAGS-DAG1\n",
        "\n",
        "\n",
        "![image](https://user-images.githubusercontent.com/123757632/227970915-ae6b4578-7ecc-41c6-9344-b30781742a45.png)\n",
        "\n",
        "\n",
        "### ACTIVATION DES DAGS-DAG2\n",
        "\n",
        "\n",
        "![image](https://user-images.githubusercontent.com/123757632/227970954-4c1c4422-2ad2-454f-84c3-458caba15e8d.png)\n",
        "\n",
        "\n",
        "### ACTIVATION DES DAGS-DAG_MASTER\n",
        "\n",
        "\n",
        "\n",
        "![image](https://user-images.githubusercontent.com/123757632/227971011-b6b655df-99a5-4b6e-9d85-d673e236d52a.png)"
      ],
      "metadata": {
        "id": "CLcAaBeoKr2i"
      }
    }
  ]
}
